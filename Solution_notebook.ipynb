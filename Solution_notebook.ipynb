{
 "cells": [
  {
   "cell_type": "code",
   "execution_count": 1,
   "id": "ee20b977-9d5a-465a-a02a-f68d42639ff4",
   "metadata": {},
   "outputs": [],
   "source": [
    "import numpy as np\n",
    "import pandas as pd\n",
    "import matplotlib.pyplot as plt\n",
    "\n",
    "from pandasql import sqldf"
   ]
  },
  {
   "cell_type": "code",
   "execution_count": 2,
   "id": "306752ca-150a-4b70-b8ec-3e5c37a29ff3",
   "metadata": {},
   "outputs": [
    {
     "data": {
      "text/html": [
       "<div>\n",
       "<style scoped>\n",
       "    .dataframe tbody tr th:only-of-type {\n",
       "        vertical-align: middle;\n",
       "    }\n",
       "\n",
       "    .dataframe tbody tr th {\n",
       "        vertical-align: top;\n",
       "    }\n",
       "\n",
       "    .dataframe thead th {\n",
       "        text-align: right;\n",
       "    }\n",
       "</style>\n",
       "<table border=\"1\" class=\"dataframe\">\n",
       "  <thead>\n",
       "    <tr style=\"text-align: right;\">\n",
       "      <th></th>\n",
       "      <th>order_id</th>\n",
       "      <th>shop_id</th>\n",
       "      <th>user_id</th>\n",
       "      <th>order_amount</th>\n",
       "      <th>total_items</th>\n",
       "      <th>payment_method</th>\n",
       "      <th>created_at</th>\n",
       "    </tr>\n",
       "  </thead>\n",
       "  <tbody>\n",
       "    <tr>\n",
       "      <th>0</th>\n",
       "      <td>1</td>\n",
       "      <td>53</td>\n",
       "      <td>746</td>\n",
       "      <td>224</td>\n",
       "      <td>2</td>\n",
       "      <td>cash</td>\n",
       "      <td>2017-03-13 12:36:56</td>\n",
       "    </tr>\n",
       "    <tr>\n",
       "      <th>1</th>\n",
       "      <td>2</td>\n",
       "      <td>92</td>\n",
       "      <td>925</td>\n",
       "      <td>90</td>\n",
       "      <td>1</td>\n",
       "      <td>cash</td>\n",
       "      <td>2017-03-03 17:38:52</td>\n",
       "    </tr>\n",
       "    <tr>\n",
       "      <th>2</th>\n",
       "      <td>3</td>\n",
       "      <td>44</td>\n",
       "      <td>861</td>\n",
       "      <td>144</td>\n",
       "      <td>1</td>\n",
       "      <td>cash</td>\n",
       "      <td>2017-03-14 4:23:56</td>\n",
       "    </tr>\n",
       "    <tr>\n",
       "      <th>3</th>\n",
       "      <td>4</td>\n",
       "      <td>18</td>\n",
       "      <td>935</td>\n",
       "      <td>156</td>\n",
       "      <td>1</td>\n",
       "      <td>credit_card</td>\n",
       "      <td>2017-03-26 12:43:37</td>\n",
       "    </tr>\n",
       "    <tr>\n",
       "      <th>4</th>\n",
       "      <td>5</td>\n",
       "      <td>18</td>\n",
       "      <td>883</td>\n",
       "      <td>156</td>\n",
       "      <td>1</td>\n",
       "      <td>credit_card</td>\n",
       "      <td>2017-03-01 4:35:11</td>\n",
       "    </tr>\n",
       "  </tbody>\n",
       "</table>\n",
       "</div>"
      ],
      "text/plain": [
       "   order_id  shop_id  user_id  order_amount  total_items payment_method  \\\n",
       "0         1       53      746           224            2           cash   \n",
       "1         2       92      925            90            1           cash   \n",
       "2         3       44      861           144            1           cash   \n",
       "3         4       18      935           156            1    credit_card   \n",
       "4         5       18      883           156            1    credit_card   \n",
       "\n",
       "            created_at  \n",
       "0  2017-03-13 12:36:56  \n",
       "1  2017-03-03 17:38:52  \n",
       "2   2017-03-14 4:23:56  \n",
       "3  2017-03-26 12:43:37  \n",
       "4   2017-03-01 4:35:11  "
      ]
     },
     "execution_count": 2,
     "metadata": {},
     "output_type": "execute_result"
    }
   ],
   "source": [
    "df = pd.read_csv('2019 Winter Data Science Intern Challenge Data Set - Sheet1.csv')\n",
    "df.head()"
   ]
  },
  {
   "cell_type": "markdown",
   "id": "8c7ed43a-abcd-42a5-8364-aa2b5e35c349",
   "metadata": {},
   "source": [
    "# Question 1a: Think about what could be going wrong with our calculation. Think about a better way to evaluate this data. "
   ]
  },
  {
   "cell_type": "code",
   "execution_count": 3,
   "id": "d1c70d26-d259-497c-8a41-d5292fb16556",
   "metadata": {},
   "outputs": [
    {
     "name": "stdout",
     "output_type": "stream",
     "text": [
      "<class 'pandas.core.frame.DataFrame'>\n",
      "RangeIndex: 5000 entries, 0 to 4999\n",
      "Data columns (total 7 columns):\n",
      " #   Column          Non-Null Count  Dtype \n",
      "---  ------          --------------  ----- \n",
      " 0   order_id        5000 non-null   int64 \n",
      " 1   shop_id         5000 non-null   int64 \n",
      " 2   user_id         5000 non-null   int64 \n",
      " 3   order_amount    5000 non-null   int64 \n",
      " 4   total_items     5000 non-null   int64 \n",
      " 5   payment_method  5000 non-null   object\n",
      " 6   created_at      5000 non-null   object\n",
      "dtypes: int64(5), object(2)\n",
      "memory usage: 273.6+ KB\n"
     ]
    }
   ],
   "source": [
    "df.info()"
   ]
  },
  {
   "cell_type": "code",
   "execution_count": 4,
   "id": "b6ff9a70-2101-4441-9415-7d2d473aeec1",
   "metadata": {},
   "outputs": [
    {
     "data": {
      "text/html": [
       "<div>\n",
       "<style scoped>\n",
       "    .dataframe tbody tr th:only-of-type {\n",
       "        vertical-align: middle;\n",
       "    }\n",
       "\n",
       "    .dataframe tbody tr th {\n",
       "        vertical-align: top;\n",
       "    }\n",
       "\n",
       "    .dataframe thead th {\n",
       "        text-align: right;\n",
       "    }\n",
       "</style>\n",
       "<table border=\"1\" class=\"dataframe\">\n",
       "  <thead>\n",
       "    <tr style=\"text-align: right;\">\n",
       "      <th></th>\n",
       "      <th>order_id</th>\n",
       "      <th>shop_id</th>\n",
       "      <th>user_id</th>\n",
       "      <th>order_amount</th>\n",
       "      <th>total_items</th>\n",
       "    </tr>\n",
       "  </thead>\n",
       "  <tbody>\n",
       "    <tr>\n",
       "      <th>count</th>\n",
       "      <td>5000.000000</td>\n",
       "      <td>5000.000000</td>\n",
       "      <td>5000.000000</td>\n",
       "      <td>5000.000000</td>\n",
       "      <td>5000.00000</td>\n",
       "    </tr>\n",
       "    <tr>\n",
       "      <th>mean</th>\n",
       "      <td>2500.500000</td>\n",
       "      <td>50.078800</td>\n",
       "      <td>849.092400</td>\n",
       "      <td>3145.128000</td>\n",
       "      <td>8.78720</td>\n",
       "    </tr>\n",
       "    <tr>\n",
       "      <th>std</th>\n",
       "      <td>1443.520003</td>\n",
       "      <td>29.006118</td>\n",
       "      <td>87.798982</td>\n",
       "      <td>41282.539349</td>\n",
       "      <td>116.32032</td>\n",
       "    </tr>\n",
       "    <tr>\n",
       "      <th>min</th>\n",
       "      <td>1.000000</td>\n",
       "      <td>1.000000</td>\n",
       "      <td>607.000000</td>\n",
       "      <td>90.000000</td>\n",
       "      <td>1.00000</td>\n",
       "    </tr>\n",
       "    <tr>\n",
       "      <th>25%</th>\n",
       "      <td>1250.750000</td>\n",
       "      <td>24.000000</td>\n",
       "      <td>775.000000</td>\n",
       "      <td>163.000000</td>\n",
       "      <td>1.00000</td>\n",
       "    </tr>\n",
       "    <tr>\n",
       "      <th>50%</th>\n",
       "      <td>2500.500000</td>\n",
       "      <td>50.000000</td>\n",
       "      <td>849.000000</td>\n",
       "      <td>284.000000</td>\n",
       "      <td>2.00000</td>\n",
       "    </tr>\n",
       "    <tr>\n",
       "      <th>75%</th>\n",
       "      <td>3750.250000</td>\n",
       "      <td>75.000000</td>\n",
       "      <td>925.000000</td>\n",
       "      <td>390.000000</td>\n",
       "      <td>3.00000</td>\n",
       "    </tr>\n",
       "    <tr>\n",
       "      <th>max</th>\n",
       "      <td>5000.000000</td>\n",
       "      <td>100.000000</td>\n",
       "      <td>999.000000</td>\n",
       "      <td>704000.000000</td>\n",
       "      <td>2000.00000</td>\n",
       "    </tr>\n",
       "  </tbody>\n",
       "</table>\n",
       "</div>"
      ],
      "text/plain": [
       "          order_id      shop_id      user_id   order_amount  total_items\n",
       "count  5000.000000  5000.000000  5000.000000    5000.000000   5000.00000\n",
       "mean   2500.500000    50.078800   849.092400    3145.128000      8.78720\n",
       "std    1443.520003    29.006118    87.798982   41282.539349    116.32032\n",
       "min       1.000000     1.000000   607.000000      90.000000      1.00000\n",
       "25%    1250.750000    24.000000   775.000000     163.000000      1.00000\n",
       "50%    2500.500000    50.000000   849.000000     284.000000      2.00000\n",
       "75%    3750.250000    75.000000   925.000000     390.000000      3.00000\n",
       "max    5000.000000   100.000000   999.000000  704000.000000   2000.00000"
      ]
     },
     "execution_count": 4,
     "metadata": {},
     "output_type": "execute_result"
    }
   ],
   "source": [
    "df.describe()"
   ]
  },
  {
   "cell_type": "markdown",
   "id": "16dedd9a-8cd8-4f2f-8ab0-a3278c4c7f50",
   "metadata": {},
   "source": [
    "` $3145.13 appears to be the mean of order_amount column. So, I don't think it's the correct AOV`"
   ]
  },
  {
   "cell_type": "markdown",
   "id": "01a16614-7676-4784-bf23-e60927f0a572",
   "metadata": {},
   "source": [
    "`Getting the average sneaker price per shop`"
   ]
  },
  {
   "cell_type": "code",
   "execution_count": 5,
   "id": "8ca8bea0-fd4b-40d9-af27-ee6216d05035",
   "metadata": {},
   "outputs": [],
   "source": [
    "df['avg_sneaker_price'] = df['order_amount']/df['total_items']"
   ]
  },
  {
   "cell_type": "code",
   "execution_count": 6,
   "id": "d4baec0b-3efa-4af9-8455-032ce827671f",
   "metadata": {},
   "outputs": [
    {
     "data": {
      "text/html": [
       "<div>\n",
       "<style scoped>\n",
       "    .dataframe tbody tr th:only-of-type {\n",
       "        vertical-align: middle;\n",
       "    }\n",
       "\n",
       "    .dataframe tbody tr th {\n",
       "        vertical-align: top;\n",
       "    }\n",
       "\n",
       "    .dataframe thead th {\n",
       "        text-align: right;\n",
       "    }\n",
       "</style>\n",
       "<table border=\"1\" class=\"dataframe\">\n",
       "  <thead>\n",
       "    <tr style=\"text-align: right;\">\n",
       "      <th></th>\n",
       "      <th>order_id</th>\n",
       "      <th>shop_id</th>\n",
       "      <th>user_id</th>\n",
       "      <th>order_amount</th>\n",
       "      <th>total_items</th>\n",
       "      <th>payment_method</th>\n",
       "      <th>created_at</th>\n",
       "      <th>avg_sneaker_price</th>\n",
       "    </tr>\n",
       "  </thead>\n",
       "  <tbody>\n",
       "    <tr>\n",
       "      <th>0</th>\n",
       "      <td>1</td>\n",
       "      <td>53</td>\n",
       "      <td>746</td>\n",
       "      <td>224</td>\n",
       "      <td>2</td>\n",
       "      <td>cash</td>\n",
       "      <td>2017-03-13 12:36:56</td>\n",
       "      <td>112.0</td>\n",
       "    </tr>\n",
       "    <tr>\n",
       "      <th>1</th>\n",
       "      <td>2</td>\n",
       "      <td>92</td>\n",
       "      <td>925</td>\n",
       "      <td>90</td>\n",
       "      <td>1</td>\n",
       "      <td>cash</td>\n",
       "      <td>2017-03-03 17:38:52</td>\n",
       "      <td>90.0</td>\n",
       "    </tr>\n",
       "    <tr>\n",
       "      <th>2</th>\n",
       "      <td>3</td>\n",
       "      <td>44</td>\n",
       "      <td>861</td>\n",
       "      <td>144</td>\n",
       "      <td>1</td>\n",
       "      <td>cash</td>\n",
       "      <td>2017-03-14 4:23:56</td>\n",
       "      <td>144.0</td>\n",
       "    </tr>\n",
       "    <tr>\n",
       "      <th>3</th>\n",
       "      <td>4</td>\n",
       "      <td>18</td>\n",
       "      <td>935</td>\n",
       "      <td>156</td>\n",
       "      <td>1</td>\n",
       "      <td>credit_card</td>\n",
       "      <td>2017-03-26 12:43:37</td>\n",
       "      <td>156.0</td>\n",
       "    </tr>\n",
       "    <tr>\n",
       "      <th>4</th>\n",
       "      <td>5</td>\n",
       "      <td>18</td>\n",
       "      <td>883</td>\n",
       "      <td>156</td>\n",
       "      <td>1</td>\n",
       "      <td>credit_card</td>\n",
       "      <td>2017-03-01 4:35:11</td>\n",
       "      <td>156.0</td>\n",
       "    </tr>\n",
       "  </tbody>\n",
       "</table>\n",
       "</div>"
      ],
      "text/plain": [
       "   order_id  shop_id  user_id  order_amount  total_items payment_method  \\\n",
       "0         1       53      746           224            2           cash   \n",
       "1         2       92      925            90            1           cash   \n",
       "2         3       44      861           144            1           cash   \n",
       "3         4       18      935           156            1    credit_card   \n",
       "4         5       18      883           156            1    credit_card   \n",
       "\n",
       "            created_at  avg_sneaker_price  \n",
       "0  2017-03-13 12:36:56              112.0  \n",
       "1  2017-03-03 17:38:52               90.0  \n",
       "2   2017-03-14 4:23:56              144.0  \n",
       "3  2017-03-26 12:43:37              156.0  \n",
       "4   2017-03-01 4:35:11              156.0  "
      ]
     },
     "execution_count": 6,
     "metadata": {},
     "output_type": "execute_result"
    }
   ],
   "source": [
    "df.head()"
   ]
  },
  {
   "cell_type": "code",
   "execution_count": 7,
   "id": "37f1860c-c9d6-442e-aaa5-6e6ab3406b78",
   "metadata": {},
   "outputs": [],
   "source": [
    "df_sneaker_price = df.groupby('shop_id').agg({'avg_sneaker_price':np.unique}).reset_index().sort_values(by=['avg_sneaker_price'], ascending=False).reset_index(drop=True)"
   ]
  },
  {
   "cell_type": "code",
   "execution_count": 8,
   "id": "97ca553e-9513-4e47-a950-e1e733ef5015",
   "metadata": {},
   "outputs": [
    {
     "data": {
      "text/html": [
       "<div>\n",
       "<style scoped>\n",
       "    .dataframe tbody tr th:only-of-type {\n",
       "        vertical-align: middle;\n",
       "    }\n",
       "\n",
       "    .dataframe tbody tr th {\n",
       "        vertical-align: top;\n",
       "    }\n",
       "\n",
       "    .dataframe thead th {\n",
       "        text-align: right;\n",
       "    }\n",
       "</style>\n",
       "<table border=\"1\" class=\"dataframe\">\n",
       "  <thead>\n",
       "    <tr style=\"text-align: right;\">\n",
       "      <th></th>\n",
       "      <th>shop_id</th>\n",
       "      <th>avg_sneaker_price</th>\n",
       "    </tr>\n",
       "  </thead>\n",
       "  <tbody>\n",
       "    <tr>\n",
       "      <th>0</th>\n",
       "      <td>78</td>\n",
       "      <td>25725.0</td>\n",
       "    </tr>\n",
       "    <tr>\n",
       "      <th>1</th>\n",
       "      <td>42</td>\n",
       "      <td>352.0</td>\n",
       "    </tr>\n",
       "    <tr>\n",
       "      <th>2</th>\n",
       "      <td>12</td>\n",
       "      <td>201.0</td>\n",
       "    </tr>\n",
       "    <tr>\n",
       "      <th>3</th>\n",
       "      <td>89</td>\n",
       "      <td>196.0</td>\n",
       "    </tr>\n",
       "    <tr>\n",
       "      <th>4</th>\n",
       "      <td>99</td>\n",
       "      <td>195.0</td>\n",
       "    </tr>\n",
       "    <tr>\n",
       "      <th>5</th>\n",
       "      <td>50</td>\n",
       "      <td>193.0</td>\n",
       "    </tr>\n",
       "    <tr>\n",
       "      <th>6</th>\n",
       "      <td>38</td>\n",
       "      <td>190.0</td>\n",
       "    </tr>\n",
       "    <tr>\n",
       "      <th>7</th>\n",
       "      <td>51</td>\n",
       "      <td>187.0</td>\n",
       "    </tr>\n",
       "    <tr>\n",
       "      <th>8</th>\n",
       "      <td>6</td>\n",
       "      <td>187.0</td>\n",
       "    </tr>\n",
       "    <tr>\n",
       "      <th>9</th>\n",
       "      <td>11</td>\n",
       "      <td>184.0</td>\n",
       "    </tr>\n",
       "  </tbody>\n",
       "</table>\n",
       "</div>"
      ],
      "text/plain": [
       "   shop_id  avg_sneaker_price\n",
       "0       78            25725.0\n",
       "1       42              352.0\n",
       "2       12              201.0\n",
       "3       89              196.0\n",
       "4       99              195.0\n",
       "5       50              193.0\n",
       "6       38              190.0\n",
       "7       51              187.0\n",
       "8        6              187.0\n",
       "9       11              184.0"
      ]
     },
     "execution_count": 8,
     "metadata": {},
     "output_type": "execute_result"
    }
   ],
   "source": [
    "df_sneaker_price.head(10)"
   ]
  },
  {
   "cell_type": "code",
   "execution_count": 9,
   "id": "c8718437-836e-4bf7-adf9-dfc781bf64e2",
   "metadata": {},
   "outputs": [
    {
     "data": {
      "image/png": "[encoded data removed]",
      "text/plain": [
       "<Figure size 432x288 with 1 Axes>"
      ]
     },
     "metadata": {
      "needs_background": "light"
     },
     "output_type": "display_data"
    }
   ],
   "source": [
    "df_sneaker_price.boxplot(column='avg_sneaker_price', return_type='axes');"
   ]
  },
  {
   "cell_type": "code",
   "execution_count": 10,
   "id": "da608aa1-bded-419c-9754-886f3e9eb661",
   "metadata": {},
   "outputs": [
    {
     "data": {
      "text/plain": [
       "<AxesSubplot:xlabel='shop_id', ylabel='avg_sneaker_price'>"
      ]
     },
     "execution_count": 10,
     "metadata": {},
     "output_type": "execute_result"
    },
    {
     "data": {
      "image/png": "[encoded data removed]",
      "text/plain": [
       "<Figure size 432x288 with 1 Axes>"
      ]
     },
     "metadata": {
      "needs_background": "light"
     },
     "output_type": "display_data"
    }
   ],
   "source": [
    "df_sneaker_price.plot.scatter(x='shop_id',\n",
    "                         y='avg_sneaker_price',\n",
    "                      c='DarkBlue')"
   ]
  },
  {
   "cell_type": "code",
   "execution_count": 11,
   "id": "d3789d5b-41d4-40fc-b201-96a0b681e96a",
   "metadata": {},
   "outputs": [
    {
     "data": {
      "text/html": [
       "<div>\n",
       "<style scoped>\n",
       "    .dataframe tbody tr th:only-of-type {\n",
       "        vertical-align: middle;\n",
       "    }\n",
       "\n",
       "    .dataframe tbody tr th {\n",
       "        vertical-align: top;\n",
       "    }\n",
       "\n",
       "    .dataframe thead th {\n",
       "        text-align: right;\n",
       "    }\n",
       "</style>\n",
       "<table border=\"1\" class=\"dataframe\">\n",
       "  <thead>\n",
       "    <tr style=\"text-align: right;\">\n",
       "      <th></th>\n",
       "      <th>shop_id</th>\n",
       "      <th>avg_sneaker_price</th>\n",
       "    </tr>\n",
       "  </thead>\n",
       "  <tbody>\n",
       "    <tr>\n",
       "      <th>count</th>\n",
       "      <td>100.000000</td>\n",
       "      <td>100.000000</td>\n",
       "    </tr>\n",
       "    <tr>\n",
       "      <th>mean</th>\n",
       "      <td>50.500000</td>\n",
       "      <td>407.990000</td>\n",
       "    </tr>\n",
       "    <tr>\n",
       "      <th>std</th>\n",
       "      <td>29.011492</td>\n",
       "      <td>2557.462906</td>\n",
       "    </tr>\n",
       "    <tr>\n",
       "      <th>min</th>\n",
       "      <td>1.000000</td>\n",
       "      <td>90.000000</td>\n",
       "    </tr>\n",
       "    <tr>\n",
       "      <th>25%</th>\n",
       "      <td>25.750000</td>\n",
       "      <td>132.750000</td>\n",
       "    </tr>\n",
       "    <tr>\n",
       "      <th>50%</th>\n",
       "      <td>50.500000</td>\n",
       "      <td>153.000000</td>\n",
       "    </tr>\n",
       "    <tr>\n",
       "      <th>75%</th>\n",
       "      <td>75.250000</td>\n",
       "      <td>168.250000</td>\n",
       "    </tr>\n",
       "    <tr>\n",
       "      <th>max</th>\n",
       "      <td>100.000000</td>\n",
       "      <td>25725.000000</td>\n",
       "    </tr>\n",
       "  </tbody>\n",
       "</table>\n",
       "</div>"
      ],
      "text/plain": [
       "          shop_id  avg_sneaker_price\n",
       "count  100.000000         100.000000\n",
       "mean    50.500000         407.990000\n",
       "std     29.011492        2557.462906\n",
       "min      1.000000          90.000000\n",
       "25%     25.750000         132.750000\n",
       "50%     50.500000         153.000000\n",
       "75%     75.250000         168.250000\n",
       "max    100.000000       25725.000000"
      ]
     },
     "execution_count": 11,
     "metadata": {},
     "output_type": "execute_result"
    }
   ],
   "source": [
    "df_sneaker_price.describe()"
   ]
  },
  {
   "cell_type": "code",
   "execution_count": 12,
   "id": "12894564-6c09-43b3-90d1-7cf61f43a82b",
   "metadata": {},
   "outputs": [
    {
     "data": {
      "text/html": [
       "<div>\n",
       "<style scoped>\n",
       "    .dataframe tbody tr th:only-of-type {\n",
       "        vertical-align: middle;\n",
       "    }\n",
       "\n",
       "    .dataframe tbody tr th {\n",
       "        vertical-align: top;\n",
       "    }\n",
       "\n",
       "    .dataframe thead th {\n",
       "        text-align: right;\n",
       "    }\n",
       "</style>\n",
       "<table border=\"1\" class=\"dataframe\">\n",
       "  <thead>\n",
       "    <tr style=\"text-align: right;\">\n",
       "      <th></th>\n",
       "      <th>shop_id</th>\n",
       "      <th>avg_sneaker_price</th>\n",
       "    </tr>\n",
       "  </thead>\n",
       "  <tbody>\n",
       "    <tr>\n",
       "      <th>0</th>\n",
       "      <td>78</td>\n",
       "      <td>25725.0</td>\n",
       "    </tr>\n",
       "  </tbody>\n",
       "</table>\n",
       "</div>"
      ],
      "text/plain": [
       "   shop_id  avg_sneaker_price\n",
       "0       78            25725.0"
      ]
     },
     "execution_count": 12,
     "metadata": {},
     "output_type": "execute_result"
    }
   ],
   "source": [
    "df_sneaker_price[df_sneaker_price['avg_sneaker_price'] == df_sneaker_price['avg_sneaker_price'].max()]"
   ]
  },
  {
   "cell_type": "markdown",
   "id": "9a2f9815-0719-4708-890b-02cb64e607e1",
   "metadata": {},
   "source": [
    "` Given that the 3rd Quantile is just $168.2 and the maximum value is $25725, shop 78 is clearly an outlier `"
   ]
  },
  {
   "cell_type": "markdown",
   "id": "91a99a4c-020a-4b7a-b4fa-c24d44383527",
   "metadata": {},
   "source": [
    "` Our primary aim is to analyse the AOV for our shops. Given that each shop sells just one model of sneakers, we are essentially trying to determine our average sneaker price.  Shop 78 has a sneaker price of $25,725 which is rather disturbing and needs to be checked. In order not to disrupt our analysis (if we’re adamant on using the average sneaker price) then we should not include this shop’s price in our calculations. As such, our AOV would be obtained as follows.`"
   ]
  },
  {
   "cell_type": "code",
   "execution_count": 13,
   "id": "da8674a2-11ca-458a-9a41-65866e76b53d",
   "metadata": {},
   "outputs": [
    {
     "data": {
      "text/plain": [
       "152.26262626262627"
      ]
     },
     "execution_count": 13,
     "metadata": {},
     "output_type": "execute_result"
    }
   ],
   "source": [
    "df_sneaker_price[df_sneaker_price['avg_sneaker_price'] != df_sneaker_price['avg_sneaker_price'].max()]['avg_sneaker_price'].mean()"
   ]
  },
  {
   "cell_type": "markdown",
   "id": "f3198e38-c0c1-41a5-bafb-ddd69854b0e3",
   "metadata": {},
   "source": [
    "`This gives an average order value of $152.26. As it’s against data best practices to delete data, we’ll explore other methods.`"
   ]
  },
  {
   "cell_type": "markdown",
   "id": "aa162d47-091e-4e10-a0c5-4e550ed8ea7a",
   "metadata": {},
   "source": [
    "## Median Order Value"
   ]
  },
  {
   "cell_type": "markdown",
   "id": "11ee567a-62f5-4aff-b3fb-d99d59969993",
   "metadata": {},
   "source": [
    "` Another method would be to use the median instead, this is more robust and helps dampen the effect of outliers on the Order Values. This is implemented as follows: `"
   ]
  },
  {
   "cell_type": "code",
   "execution_count": 14,
   "id": "f16bd629-4e69-446a-bac4-a6ad7d856bad",
   "metadata": {},
   "outputs": [
    {
     "data": {
      "text/plain": [
       "153.0"
      ]
     },
     "execution_count": 14,
     "metadata": {},
     "output_type": "execute_result"
    }
   ],
   "source": [
    "df_sneaker_price['avg_sneaker_price'].median()"
   ]
  },
  {
   "cell_type": "markdown",
   "id": "20192f4b-0b92-4fda-9271-9c23d1c00433",
   "metadata": {},
   "source": [
    "`The median order value obtained is $153.`"
   ]
  },
  {
   "cell_type": "markdown",
   "id": "12f66d1e-693d-4de4-ae4a-78806de77b5a",
   "metadata": {},
   "source": [
    "## Modal Order Value"
   ]
  },
  {
   "cell_type": "markdown",
   "id": "ef82643b-9a5d-468b-9368-db43c3c678fb",
   "metadata": {},
   "source": [
    "` One more method would be to find the modal sneaker price (most occuring)`"
   ]
  },
  {
   "cell_type": "code",
   "execution_count": 15,
   "id": "2bad111f-1c58-4c6e-9113-f561c844d333",
   "metadata": {},
   "outputs": [
    {
     "data": {
      "text/plain": [
       "0    153.0\n",
       "dtype: float64"
      ]
     },
     "execution_count": 15,
     "metadata": {},
     "output_type": "execute_result"
    }
   ],
   "source": [
    "df_sneaker_price['avg_sneaker_price'].mode()"
   ]
  },
  {
   "cell_type": "markdown",
   "id": "b18d45ff-3df1-4b38-9591-1965a7da3726",
   "metadata": {},
   "source": [
    "` This yields a modal order value of $153. `"
   ]
  },
  {
   "cell_type": "markdown",
   "id": "99f63349-20a1-46e7-a18d-1138a4b6c1fc",
   "metadata": {},
   "source": [
    "# Question 1b: What metric would you report for this dataset?"
   ]
  },
  {
   "cell_type": "markdown",
   "id": "8de97091-2a12-428a-b94f-689f51a17bc8",
   "metadata": {},
   "source": [
    "`I would report the median order value (sneaker prices) as this is safer than the omission method and reduces the effect of outliers. Hence it gives a more accurate description of the value of each order across all 100 shops.`"
   ]
  },
  {
   "cell_type": "markdown",
   "id": "6b5dd84c-999c-4e1a-be70-a1011ba1677c",
   "metadata": {},
   "source": [
    "# Question 1c: What is its value?"
   ]
  },
  {
   "cell_type": "markdown",
   "id": "77c0fd2f-6761-4fbd-8b56-de2269193c76",
   "metadata": {},
   "source": [
    "` Its value is $153 `"
   ]
  },
  {
   "cell_type": "markdown",
   "id": "bc16a204-4232-4d5a-b7e5-ed272394bde6",
   "metadata": {},
   "source": [
    "# Question 2a: How many orders were shipped by Speedy Express in total?"
   ]
  },
  {
   "cell_type": "markdown",
   "id": "61207740-4b2d-4155-85a0-32ba987978fb",
   "metadata": {},
   "source": [
    "Select count(*) from Orders O <br />\n",
    "inner join Shippers S <br />\n",
    "on O.ShipperID = S.ShipperID <br />\n",
    "where S.ShipperName = \"Speedy Express\""
   ]
  },
  {
   "cell_type": "markdown",
   "id": "da9e5bea-76a5-4cea-9048-630482ca7eb1",
   "metadata": {},
   "source": [
    "`54`"
   ]
  },
  {
   "cell_type": "markdown",
   "id": "40951376-1aad-4c27-8794-43d945fd3f80",
   "metadata": {},
   "source": [
    "# Question 2b: What is the last name of the employee with the most orders?"
   ]
  },
  {
   "cell_type": "markdown",
   "id": "09d09ee3-e472-45dd-a205-a2c5390224c8",
   "metadata": {},
   "source": [
    "Select E.LastName, count(*) as OrderCount from [Orders] O <br />\n",
    "join [Employees] E <br />\n",
    "on O.EmployeeID = E.EmployeeID <br />\n",
    "group by E.LastName <br />\n",
    "order by OrderCount desc limit 1"
   ]
  },
  {
   "cell_type": "markdown",
   "id": "e2f43479-d98d-4264-affb-7e9ad9eb5deb",
   "metadata": {},
   "source": [
    "`Peacock`"
   ]
  },
  {
   "cell_type": "markdown",
   "id": "3fba172b-f3d8-4345-976e-0c1f4c431c80",
   "metadata": {},
   "source": [
    "# Question 2c: What product was ordered the most by customers in Germany?"
   ]
  },
  {
   "cell_type": "markdown",
   "id": "2a252c66-b75b-43c2-b677-f5c460962c18",
   "metadata": {},
   "source": [
    "Select ProductName from <br />\n",
    "(Select ProductID, Country, SUM(Quantity) FinalQuantity from OrderDetails OD <br />\n",
    "left join <br />\n",
    "(Select O.OrderID, O.CustomerID, C.Country from Orders O <br />\n",
    "left join (Select CustomerID, Country from Customers) C <br />\n",
    "on O.CustomerID = C.CustomerID) cust <br />\n",
    "on OD.OrderID = cust.OrderID <br />\n",
    "group by Country, ProductID having Country = 'Germany') G <br />\n",
    "left join (Select ProductID, ProductName from Products) P <br />\n",
    "on G.ProductID = P.ProductID <br />\n",
    "order by FinalQuantity desc limit 1"
   ]
  },
  {
   "cell_type": "markdown",
   "id": "a417dbcb-f057-4657-90fc-65f1686dcd25",
   "metadata": {},
   "source": [
    "`Boston Crab Meat`"
   ]
  },
  {
   "cell_type": "code",
   "execution_count": null,
   "id": "56389f4b-61e3-4ec1-8fe0-463631e99f12",
   "metadata": {},
   "outputs": [],
   "source": []
  }
 ],
 "metadata": {
  "kernelspec": {
   "display_name": "Python 3 (ipykernel)",
   "language": "python",
   "name": "python3"
  },
  "language_info": {
   "codemirror_mode": {
    "name": "ipython",
    "version": 3
   },
   "file_extension": ".py",
   "mimetype": "text/x-python",
   "name": "python",
   "nbconvert_exporter": "python",
   "pygments_lexer": "ipython3",
   "version": "3.8.10"
  }
 },
 "nbformat": 4,
 "nbformat_minor": 5
}
